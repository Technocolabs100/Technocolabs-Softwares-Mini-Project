{
 "cells": [
  {
   "cell_type": "code",
   "execution_count": 642,
   "metadata": {},
   "outputs": [],
   "source": [
    "import pandas as pd\n",
    "import numpy as np\n",
    "import seaborn as sns\n",
    "from sklearn.preprocessing import StandardScaler\n",
    "import fuzzywuzzy\n",
    "from fuzzywuzzy import process\n",
    "from sklearn.preprocessing import OrdinalEncoder\n",
    "from sklearn.preprocessing import OneHotEncoder\n",
    "from sklearn.impute import SimpleImputer\n",
    "from sklearn.linear_model import LinearRegression\n",
    "from sklearn.compose import ColumnTransformer\n",
    "from sklearn.preprocessing import FunctionTransformer\n",
    "from sklearn.ensemble import RandomForestRegressor\n",
    "import matplotlib.pyplot as plt\n",
    "%matplotlib inline\n"
   ]
  },
  {
   "cell_type": "code",
   "execution_count": 643,
   "metadata": {},
   "outputs": [],
   "source": [
    "train_data=pd.read_csv(\"Train.csv\")\n",
    "test_data=pd.read_csv(\"Test.csv\")"
   ]
  },
  {
   "cell_type": "code",
   "execution_count": 644,
   "metadata": {},
   "outputs": [],
   "source": [
    "x_train_data=train_data.drop(\"Item_Outlet_Sales\",axis=1)\n",
    "y_train_data=train_data[\"Item_Outlet_Sales\"]"
   ]
  },
  {
   "cell_type": "code",
   "execution_count": 645,
   "metadata": {},
   "outputs": [],
   "source": [
    "count_item=x_train_data[\"Item_Identifier\"].value_counts()\n",
    "threshold2=1"
   ]
  },
  {
   "cell_type": "code",
   "execution_count": 646,
   "metadata": {},
   "outputs": [],
   "source": [
    "repl=count_item[count_item<=1].index"
   ]
  },
  {
   "cell_type": "code",
   "execution_count": 647,
   "metadata": {},
   "outputs": [],
   "source": [
    "x_train_data[\"Item_Identifier\"]=x_train_data[\"Item_Identifier\"].replace(repl, \"Other_Item_ID\")"
   ]
  },
  {
   "cell_type": "code",
   "execution_count": 648,
   "metadata": {},
   "outputs": [],
   "source": [
    "test_data[\"Item_Identifier\"]=test_data[\"Item_Identifier\"].replace(repl, \"Other_Item_ID\")"
   ]
  },
  {
   "cell_type": "code",
   "execution_count": 649,
   "metadata": {},
   "outputs": [
    {
     "data": {
      "text/plain": [
       "FDW13    10\n",
       "FDG33    10\n",
       "FDF56     9\n",
       "FDW26     9\n",
       "FDP25     9\n",
       "         ..\n",
       "DRC24     2\n",
       "NCG19     2\n",
       "FDZ50     2\n",
       "DRI59     2\n",
       "NCW05     2\n",
       "Name: Item_Identifier, Length: 1551, dtype: int64"
      ]
     },
     "execution_count": 649,
     "metadata": {},
     "output_type": "execute_result"
    }
   ],
   "source": [
    "x_train_data[\"Item_Identifier\"].value_counts()"
   ]
  },
  {
   "attachments": {},
   "cell_type": "markdown",
   "metadata": {},
   "source": [
    "# ITEM IDENTIFIER"
   ]
  },
  {
   "cell_type": "code",
   "execution_count": 650,
   "metadata": {},
   "outputs": [],
   "source": [
    "x_train_data[\"Item_Identifier\"]=x_train_data[\"Item_Identifier\"].apply(lambda s:s[0:2])"
   ]
  },
  {
   "cell_type": "code",
   "execution_count": 651,
   "metadata": {},
   "outputs": [],
   "source": [
    "test_data[\"Item_Identifier\"]=test_data[\"Item_Identifier\"].apply(lambda s:s[0:2])"
   ]
  },
  {
   "cell_type": "code",
   "execution_count": 652,
   "metadata": {},
   "outputs": [
    {
     "data": {
      "text/plain": [
       "FD    6117\n",
       "NC    1599\n",
       "DR     798\n",
       "Ot       9\n",
       "Name: Item_Identifier, dtype: int64"
      ]
     },
     "execution_count": 652,
     "metadata": {},
     "output_type": "execute_result"
    }
   ],
   "source": [
    "x_train_data[\"Item_Identifier\"].value_counts()"
   ]
  },
  {
   "attachments": {},
   "cell_type": "markdown",
   "metadata": {},
   "source": [
    "# ITEM WIEGHT"
   ]
  },
  {
   "cell_type": "code",
   "execution_count": 653,
   "metadata": {},
   "outputs": [],
   "source": [
    "item_weight_mean=x_train_data[\"Item_Weight\"].mean()"
   ]
  },
  {
   "cell_type": "code",
   "execution_count": 654,
   "metadata": {},
   "outputs": [],
   "source": [
    "x_train_data[\"Item_Weight\"]=x_train_data[\"Item_Weight\"].fillna(item_weight_mean)"
   ]
  },
  {
   "cell_type": "code",
   "execution_count": 655,
   "metadata": {},
   "outputs": [],
   "source": [
    "test_data[\"Item_Weight\"]=test_data[\"Item_Weight\"].fillna(item_weight_mean)"
   ]
  },
  {
   "attachments": {},
   "cell_type": "markdown",
   "metadata": {},
   "source": [
    "# ITEM FAT CONTENT"
   ]
  },
  {
   "cell_type": "code",
   "execution_count": 656,
   "metadata": {},
   "outputs": [],
   "source": [
    "x_train_data[\"Item_Fat_Content\"]=x_train_data[\"Item_Fat_Content\"].str.lower()\n",
    "x_train_data[\"Item_Fat_Content\"]=x_train_data[\"Item_Fat_Content\"].str.strip()"
   ]
  },
  {
   "cell_type": "code",
   "execution_count": 657,
   "metadata": {},
   "outputs": [],
   "source": [
    "test_data[\"Item_Fat_Content\"]=test_data[\"Item_Fat_Content\"].str.lower()\n",
    "test_data[\"Item_Fat_Content\"]=test_data[\"Item_Fat_Content\"].str.strip()"
   ]
  },
  {
   "cell_type": "code",
   "execution_count": 658,
   "metadata": {},
   "outputs": [],
   "source": [
    "def replace_inconsistent_data(df,column, string_to_match, min_ratio=22):\n",
    "    unique_df=df[column].unique()\n",
    "    matches=fuzzywuzzy.process.extract(string_to_match, unique_df,limit=10, scorer=fuzzywuzzy.fuzz.token_set_ratio)\n",
    "    close_matches=[matches[0] for matches in matches if matches[1]>=min_ratio]\n",
    "    row_matches=df[column].isin(close_matches)\n",
    "    df.loc[row_matches,column]=string_to_match\n"
   ]
  },
  {
   "cell_type": "code",
   "execution_count": 659,
   "metadata": {},
   "outputs": [],
   "source": [
    "replace_inconsistent_data(df=x_train_data, column=\"Item_Fat_Content\", string_to_match=\"low fat\")"
   ]
  },
  {
   "cell_type": "code",
   "execution_count": 660,
   "metadata": {},
   "outputs": [],
   "source": [
    "replace_inconsistent_data(df=x_train_data, column=\"Item_Fat_Content\", string_to_match=\"regular\")"
   ]
  },
  {
   "cell_type": "code",
   "execution_count": 661,
   "metadata": {},
   "outputs": [],
   "source": [
    "replace_inconsistent_data(df=test_data, column=\"Item_Fat_Content\", string_to_match=\"regular\")"
   ]
  },
  {
   "cell_type": "code",
   "execution_count": 662,
   "metadata": {},
   "outputs": [],
   "source": [
    "replace_inconsistent_data(df=test_data, column=\"Item_Fat_Content\", string_to_match=\"low fat\")"
   ]
  },
  {
   "attachments": {},
   "cell_type": "markdown",
   "metadata": {},
   "source": [
    "# ITEM VISIBILITY"
   ]
  },
  {
   "cell_type": "code",
   "execution_count": 663,
   "metadata": {},
   "outputs": [],
   "source": [
    "x_train_data[\"Item_Visibility\"]=x_train_data[\"Item_Visibility\"].replace(0,float(\"NaN\"))"
   ]
  },
  {
   "cell_type": "code",
   "execution_count": 664,
   "metadata": {},
   "outputs": [],
   "source": [
    "test_data[\"Item_Visibility\"]=test_data[\"Item_Visibility\"].replace(0,float(\"NaN\"))"
   ]
  },
  {
   "cell_type": "code",
   "execution_count": 665,
   "metadata": {},
   "outputs": [],
   "source": [
    "item_visibility_mean=x_train_data[\"Item_Visibility\"].mean()"
   ]
  },
  {
   "cell_type": "code",
   "execution_count": 666,
   "metadata": {},
   "outputs": [],
   "source": [
    "x_train_data[\"Item_Visibility\"]=x_train_data[\"Item_Visibility\"].fillna(item_visibility_mean)"
   ]
  },
  {
   "cell_type": "code",
   "execution_count": 667,
   "metadata": {},
   "outputs": [],
   "source": [
    "test_data[\"Item_Visibility\"]=test_data[\"Item_Visibility\"].fillna(item_visibility_mean)\n"
   ]
  },
  {
   "attachments": {},
   "cell_type": "markdown",
   "metadata": {},
   "source": [
    "# OUTLIERS REMOVING"
   ]
  },
  {
   "cell_type": "code",
   "execution_count": 668,
   "metadata": {},
   "outputs": [],
   "source": [
    "Q1=x_train_data[\"Item_Visibility\"].quantile(.25)\n",
    "Q3=x_train_data[\"Item_Visibility\"].quantile(.75)"
   ]
  },
  {
   "cell_type": "code",
   "execution_count": 669,
   "metadata": {},
   "outputs": [],
   "source": [
    "IQR=Q3-Q1"
   ]
  },
  {
   "cell_type": "code",
   "execution_count": 670,
   "metadata": {},
   "outputs": [],
   "source": [
    "upper_lim=Q3+(1.5*IQR)\n",
    "lower_lim =Q1-(1.5*IQR)"
   ]
  },
  {
   "cell_type": "code",
   "execution_count": 671,
   "metadata": {},
   "outputs": [],
   "source": [
    "x_train_data[\"Item_Visibility\"]=np.where(x_train_data[\"Item_Visibility\"]>upper_lim,upper_lim, np.where(x_train_data[\"Item_Visibility\"]<lower_lim, lower_lim,x_train_data[\"Item_Visibility\"]))"
   ]
  },
  {
   "cell_type": "code",
   "execution_count": 672,
   "metadata": {},
   "outputs": [],
   "source": [
    "test_data[\"Item_Visibility\"]=np.where(test_data[\"Item_Visibility\"]>upper_lim,upper_lim, np.where(test_data[\"Item_Visibility\"]<lower_lim, lower_lim,test_data[\"Item_Visibility\"]))"
   ]
  },
  {
   "attachments": {},
   "cell_type": "markdown",
   "metadata": {},
   "source": [
    "# ITEM TYPE"
   ]
  },
  {
   "cell_type": "code",
   "execution_count": 673,
   "metadata": {},
   "outputs": [],
   "source": [
    "count=x_train_data[\"Item_Type\"].value_counts()\n",
    "threshold=200"
   ]
  },
  {
   "cell_type": "code",
   "execution_count": 674,
   "metadata": {},
   "outputs": [],
   "source": [
    "repl1=count[count<=200].index"
   ]
  },
  {
   "cell_type": "code",
   "execution_count": 675,
   "metadata": {},
   "outputs": [],
   "source": [
    "x_train_data[\"Item_Type\"]=x_train_data[\"Item_Type\"].replace(repl1,\"Other_Item\")"
   ]
  },
  {
   "cell_type": "code",
   "execution_count": 676,
   "metadata": {},
   "outputs": [],
   "source": [
    "test_data[\"Item_Type\"]=test_data[\"Item_Type\"].replace(repl1,\"Other_Item\")"
   ]
  },
  {
   "attachments": {},
   "cell_type": "markdown",
   "metadata": {},
   "source": [
    "# OUTLET ESHTABLISHMENT YEAR"
   ]
  },
  {
   "cell_type": "code",
   "execution_count": 677,
   "metadata": {},
   "outputs": [],
   "source": [
    "x_train_data[\"Outlet_Establishment_Year\"]=2023-x_train_data[\"Outlet_Establishment_Year\"]"
   ]
  },
  {
   "cell_type": "code",
   "execution_count": 678,
   "metadata": {},
   "outputs": [],
   "source": [
    "test_data[\"Outlet_Establishment_Year\"]=2023-test_data[\"Outlet_Establishment_Year\"]"
   ]
  },
  {
   "cell_type": "code",
   "execution_count": 679,
   "metadata": {},
   "outputs": [],
   "source": [
    "x_train_data[\"Outlet_Establishment_Year\"]=x_train_data[\"Outlet_Establishment_Year\"].astype(float)"
   ]
  },
  {
   "cell_type": "code",
   "execution_count": 680,
   "metadata": {},
   "outputs": [],
   "source": [
    "test_data[\"Outlet_Establishment_Year\"]=test_data[\"Outlet_Establishment_Year\"].astype(float)"
   ]
  },
  {
   "cell_type": "code",
   "execution_count": 700,
   "metadata": {},
   "outputs": [
    {
     "data": {
      "text/plain": [
       "0       24.0\n",
       "1       14.0\n",
       "2       24.0\n",
       "3       25.0\n",
       "4       36.0\n",
       "        ... \n",
       "8518    36.0\n",
       "8519    21.0\n",
       "8520    19.0\n",
       "8521    14.0\n",
       "8522    26.0\n",
       "Name: Outlet_Establishment_Year, Length: 8523, dtype: float64"
      ]
     },
     "execution_count": 700,
     "metadata": {},
     "output_type": "execute_result"
    }
   ],
   "source": [
    "x_train_data[\"Outlet_Establishment_Year\"]"
   ]
  },
  {
   "attachments": {},
   "cell_type": "markdown",
   "metadata": {},
   "source": [
    "# OUTLET Size"
   ]
  },
  {
   "cell_type": "code",
   "execution_count": 681,
   "metadata": {},
   "outputs": [],
   "source": [
    "x_train_data[\"Outlet_Size\"]=x_train_data[\"Outlet_Size\"].fillna(\"Medium\")"
   ]
  },
  {
   "cell_type": "code",
   "execution_count": 682,
   "metadata": {},
   "outputs": [],
   "source": [
    "test_data[\"Outlet_Size\"]=test_data[\"Outlet_Size\"].fillna(\"Medium\")"
   ]
  },
  {
   "attachments": {},
   "cell_type": "markdown",
   "metadata": {},
   "source": [
    "# OUTLET TYPE"
   ]
  },
  {
   "cell_type": "code",
   "execution_count": 683,
   "metadata": {},
   "outputs": [],
   "source": [
    "#x_train_d=x_train_data.copy()"
   ]
  },
  {
   "cell_type": "code",
   "execution_count": 684,
   "metadata": {},
   "outputs": [
    {
     "data": {
      "text/plain": [
       "Supermarket Type1    5577\n",
       "Grocery Store        1083\n",
       "Supermarket Type3     935\n",
       "Supermarket Type2     928\n",
       "Name: Outlet_Type, dtype: int64"
      ]
     },
     "execution_count": 684,
     "metadata": {},
     "output_type": "execute_result"
    }
   ],
   "source": [
    "x_train_data[\"Outlet_Type\"].value_counts()"
   ]
  },
  {
   "cell_type": "code",
   "execution_count": 685,
   "metadata": {},
   "outputs": [],
   "source": [
    "count_outlet_type=x_train_data[\"Outlet_Type\"].value_counts()\n",
    "threshold1=1000"
   ]
  },
  {
   "cell_type": "code",
   "execution_count": 686,
   "metadata": {},
   "outputs": [],
   "source": [
    "repl2=count_outlet_type[count_outlet_type<=threshold1].index"
   ]
  },
  {
   "cell_type": "code",
   "execution_count": 687,
   "metadata": {},
   "outputs": [],
   "source": [
    "x_train_data[\"Outlet_Type\"]=x_train_data[\"Outlet_Type\"].replace(repl2, \"Other Outlet Type\")"
   ]
  },
  {
   "cell_type": "code",
   "execution_count": 688,
   "metadata": {},
   "outputs": [
    {
     "data": {
      "text/plain": [
       "array(['Supermarket Type1', 'Other Outlet Type', 'Grocery Store'],\n",
       "      dtype=object)"
      ]
     },
     "execution_count": 688,
     "metadata": {},
     "output_type": "execute_result"
    }
   ],
   "source": [
    "x_train_data[\"Outlet_Type\"].unique()"
   ]
  },
  {
   "cell_type": "code",
   "execution_count": 689,
   "metadata": {},
   "outputs": [],
   "source": [
    "test_data[\"Outlet_Type\"]=test_data[\"Outlet_Type\"].replace(repl2, \"Other Outlet Type\")"
   ]
  },
  {
   "cell_type": "code",
   "execution_count": 690,
   "metadata": {},
   "outputs": [
    {
     "data": {
      "text/plain": [
       "Item_Identifier              0\n",
       "Item_Weight                  0\n",
       "Item_Fat_Content             0\n",
       "Item_Visibility              0\n",
       "Item_Type                    0\n",
       "Item_MRP                     0\n",
       "Outlet_Identifier            0\n",
       "Outlet_Establishment_Year    0\n",
       "Outlet_Size                  0\n",
       "Outlet_Location_Type         0\n",
       "Outlet_Type                  0\n",
       "dtype: int64"
      ]
     },
     "execution_count": 690,
     "metadata": {},
     "output_type": "execute_result"
    }
   ],
   "source": [
    "x_train_data.isnull().sum()"
   ]
  },
  {
   "cell_type": "code",
   "execution_count": 691,
   "metadata": {},
   "outputs": [
    {
     "data": {
      "text/plain": [
       "Item_Identifier              0\n",
       "Item_Weight                  0\n",
       "Item_Fat_Content             0\n",
       "Item_Visibility              0\n",
       "Item_Type                    0\n",
       "Item_MRP                     0\n",
       "Outlet_Identifier            0\n",
       "Outlet_Establishment_Year    0\n",
       "Outlet_Size                  0\n",
       "Outlet_Location_Type         0\n",
       "Outlet_Type                  0\n",
       "dtype: int64"
      ]
     },
     "execution_count": 691,
     "metadata": {},
     "output_type": "execute_result"
    }
   ],
   "source": [
    "test_data.isnull().sum()"
   ]
  },
  {
   "attachments": {},
   "cell_type": "markdown",
   "metadata": {},
   "source": [
    "# oulet location type"
   ]
  },
  {
   "cell_type": "code",
   "execution_count": 692,
   "metadata": {},
   "outputs": [],
   "source": [
    "#x_train_data=x_train_data.drop(\"Outlet_Location_Type\", axis=1)"
   ]
  },
  {
   "cell_type": "code",
   "execution_count": 693,
   "metadata": {},
   "outputs": [],
   "source": [
    "#test_data=test_data.drop(\"Outlet_Location_Type\", axis=1)"
   ]
  },
  {
   "attachments": {},
   "cell_type": "markdown",
   "metadata": {},
   "source": [
    "# CLOUMN TRANSFORMER"
   ]
  },
  {
   "cell_type": "code",
   "execution_count": 694,
   "metadata": {},
   "outputs": [],
   "source": [
    "transformer1=ColumnTransformer(transformers=[\n",
    "    (\"x_train_ordinal\", OrdinalEncoder(categories=[[\"Small\",\"Medium\",\"High\"]]),[\"Outlet_Size\"]),\n",
    "    (\"x_train_ohe\",OneHotEncoder(sparse=False,drop=\"first\"),[\"Item_Identifier\",\"Item_Fat_Content\",\"Item_Type\",\"Outlet_Identifier\",\"Outlet_Location_Type\",\"Outlet_Type\"]),\n",
    "    (\"x_train_sclaed\",StandardScaler(),[\"Item_Weight\",\"Item_MRP\",\"Outlet_Establishment_Year\"]),\n",
    "], remainder=\"passthrough\")"
   ]
  },
  {
   "cell_type": "code",
   "execution_count": 695,
   "metadata": {},
   "outputs": [],
   "source": [
    "x_train_processed=transformer1.fit_transform(x_train_data)"
   ]
  },
  {
   "cell_type": "code",
   "execution_count": 696,
   "metadata": {},
   "outputs": [],
   "source": [
    "test_preprocessed=transformer1.transform(test_data)"
   ]
  },
  {
   "cell_type": "code",
   "execution_count": 697,
   "metadata": {},
   "outputs": [],
   "source": [
    "model=LinearRegression()\n",
    "model.fit(x_train_processed,y_train_data)\n",
    "y_pred=model.predict(test_preprocessed)"
   ]
  },
  {
   "cell_type": "code",
   "execution_count": 698,
   "metadata": {},
   "outputs": [],
   "source": [
    "from sklearn.model_selection import cross_val_score\n",
    "scores=cross_val_score(model, x_train_processed,y_train_data,scoring=\"r2\",cv=10)"
   ]
  },
  {
   "cell_type": "code",
   "execution_count": 699,
   "metadata": {},
   "outputs": [
    {
     "data": {
      "text/plain": [
       "0.5584822483795915"
      ]
     },
     "execution_count": 699,
     "metadata": {},
     "output_type": "execute_result"
    }
   ],
   "source": [
    "scores.mean()"
   ]
  }
 ],
 "metadata": {
  "kernelspec": {
   "display_name": "Python 3",
   "language": "python",
   "name": "python3"
  },
  "language_info": {
   "codemirror_mode": {
    "name": "ipython",
    "version": 3
   },
   "file_extension": ".py",
   "mimetype": "text/x-python",
   "name": "python",
   "nbconvert_exporter": "python",
   "pygments_lexer": "ipython3",
   "version": "3.10.4 (tags/v3.10.4:9d38120, Mar 23 2022, 23:13:41) [MSC v.1929 64 bit (AMD64)]"
  },
  "orig_nbformat": 4,
  "vscode": {
   "interpreter": {
    "hash": "a9cff5a362bc38ef45d817ae74b1af54d6a076e3d773891282bce078b815ba34"
   }
  }
 },
 "nbformat": 4,
 "nbformat_minor": 2
}
